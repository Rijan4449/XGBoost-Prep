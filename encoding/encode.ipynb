{
 "cells": [
  {
   "cell_type": "code",
   "execution_count": 1,
   "id": "d0b64af3",
   "metadata": {},
   "outputs": [
    {
     "name": "stdout",
     "output_type": "stream",
     "text": [
      "Requirement already satisfied: category_encoders in c:\\users\\princ\\appdata\\local\\programs\\python\\python313\\lib\\site-packages (2.8.1)\n",
      "Requirement already satisfied: numpy>=1.14.0 in c:\\users\\princ\\appdata\\local\\programs\\python\\python313\\lib\\site-packages (from category_encoders) (2.3.3)\n",
      "Requirement already satisfied: pandas>=1.0.5 in c:\\users\\princ\\appdata\\local\\programs\\python\\python313\\lib\\site-packages (from category_encoders) (2.3.2)\n",
      "Requirement already satisfied: patsy>=0.5.1 in c:\\users\\princ\\appdata\\local\\programs\\python\\python313\\lib\\site-packages (from category_encoders) (1.0.1)\n",
      "Requirement already satisfied: scikit-learn>=1.6.0 in c:\\users\\princ\\appdata\\local\\programs\\python\\python313\\lib\\site-packages (from category_encoders) (1.7.2)\n",
      "Requirement already satisfied: scipy>=1.0.0 in c:\\users\\princ\\appdata\\local\\programs\\python\\python313\\lib\\site-packages (from category_encoders) (1.16.2)\n",
      "Requirement already satisfied: statsmodels>=0.9.0 in c:\\users\\princ\\appdata\\local\\programs\\python\\python313\\lib\\site-packages (from category_encoders) (0.14.5)\n",
      "Requirement already satisfied: python-dateutil>=2.8.2 in c:\\users\\princ\\appdata\\roaming\\python\\python313\\site-packages (from pandas>=1.0.5->category_encoders) (2.9.0.post0)\n",
      "Requirement already satisfied: pytz>=2020.1 in c:\\users\\princ\\appdata\\local\\programs\\python\\python313\\lib\\site-packages (from pandas>=1.0.5->category_encoders) (2025.2)\n",
      "Requirement already satisfied: tzdata>=2022.7 in c:\\users\\princ\\appdata\\local\\programs\\python\\python313\\lib\\site-packages (from pandas>=1.0.5->category_encoders) (2025.2)\n",
      "Requirement already satisfied: six>=1.5 in c:\\users\\princ\\appdata\\roaming\\python\\python313\\site-packages (from python-dateutil>=2.8.2->pandas>=1.0.5->category_encoders) (1.17.0)\n",
      "Requirement already satisfied: joblib>=1.2.0 in c:\\users\\princ\\appdata\\local\\programs\\python\\python313\\lib\\site-packages (from scikit-learn>=1.6.0->category_encoders) (1.5.2)\n",
      "Requirement already satisfied: threadpoolctl>=3.1.0 in c:\\users\\princ\\appdata\\local\\programs\\python\\python313\\lib\\site-packages (from scikit-learn>=1.6.0->category_encoders) (3.6.0)\n",
      "Requirement already satisfied: packaging>=21.3 in c:\\users\\princ\\appdata\\roaming\\python\\python313\\site-packages (from statsmodels>=0.9.0->category_encoders) (25.0)\n",
      "Note: you may need to restart the kernel to use updated packages.\n"
     ]
    }
   ],
   "source": [
    "%pip install category_encoders"
   ]
  },
  {
   "cell_type": "code",
   "execution_count": 2,
   "id": "2eb9754b",
   "metadata": {},
   "outputs": [],
   "source": [
    "import pandas as pd\n",
    "from category_encoders import TargetEncoder\n",
    "from sklearn.preprocessing import OneHotEncoder\n",
    "from sklearn.compose import ColumnTransformer\n",
    "from sklearn.pipeline import Pipeline\n",
    "from sklearn.impute import SimpleImputer"
   ]
  },
  {
   "cell_type": "code",
   "execution_count": 10,
   "id": "0cdc8c8e",
   "metadata": {},
   "outputs": [],
   "source": [
    "df = pd.read_csv(\"../imputation/imputed_dataset.csv\")"
   ]
  },
  {
   "cell_type": "markdown",
   "id": "b1baf7ef",
   "metadata": {},
   "source": [
    "# Encode columns that appear as an object to numerical"
   ]
  },
  {
   "cell_type": "code",
   "execution_count": 11,
   "id": "54aa4fbe",
   "metadata": {},
   "outputs": [
    {
     "data": {
      "application/vnd.microsoft.datawrangler.viewer.v0+json": {
       "columns": [
        {
         "name": "index",
         "rawType": "object",
         "type": "string"
        },
        {
         "name": "0",
         "rawType": "object",
         "type": "unknown"
        }
       ],
       "ref": "4124772d-1643-4650-8302-f5bdc50dd9f3",
       "rows": [
        [
         "fish_id",
         "object"
        ],
        [
         "species",
         "object"
        ],
        [
         "common_name",
         "object"
        ],
        [
         "kingdom",
         "object"
        ],
        [
         "phylum",
         "object"
        ],
        [
         "class",
         "object"
        ],
        [
         "order",
         "object"
        ],
        [
         "family",
         "object"
        ],
        [
         "genus",
         "object"
        ],
        [
         "status",
         "object"
        ],
        [
         "feeding_type",
         "object"
        ],
        [
         "temp_max",
         "object"
        ],
        [
         "weight_max",
         "object"
        ],
        [
         "length_max",
         "object"
        ],
        [
         "temp_pref_min",
         "object"
        ],
        [
         "temp_pref_max",
         "object"
        ],
        [
         "temp_range_min",
         "float64"
        ],
        [
         "temp_range_max",
         "float64"
        ],
        [
         "trophic_lvl_estimate_min",
         "float64"
        ],
        [
         "trophic_lvl_estimate_max",
         "float64"
        ],
        [
         "trophic_lvl",
         "object"
        ],
        [
         "fecundity_mean",
         "object"
        ],
        [
         "fecundity_min",
         "float64"
        ],
        [
         "fecundity_max",
         "float64"
        ],
        [
         "waterbody_name",
         "object"
        ],
        [
         "wb_ph_min",
         "float64"
        ],
        [
         "wb_ph_max",
         "float64"
        ],
        [
         "wb_salinity_min",
         "float64"
        ],
        [
         "wb_salinity_max",
         "float64"
        ],
        [
         "wb_do_min",
         "float64"
        ],
        [
         "wb_do_max",
         "float64"
        ],
        [
         "wb_bod_min",
         "float64"
        ],
        [
         "wb_bod_max",
         "float64"
        ],
        [
         "wb_turbidity_min",
         "float64"
        ],
        [
         "wb_turbidity_max",
         "float64"
        ],
        [
         "wb_temp_min",
         "float64"
        ],
        [
         "wb_temp_max",
         "float64"
        ]
       ],
       "shape": {
        "columns": 1,
        "rows": 37
       }
      },
      "text/plain": [
       "fish_id                      object\n",
       "species                      object\n",
       "common_name                  object\n",
       "kingdom                      object\n",
       "phylum                       object\n",
       "class                        object\n",
       "order                        object\n",
       "family                       object\n",
       "genus                        object\n",
       "status                       object\n",
       "feeding_type                 object\n",
       "temp_max                     object\n",
       "weight_max                   object\n",
       "length_max                   object\n",
       "temp_pref_min                object\n",
       "temp_pref_max                object\n",
       "temp_range_min              float64\n",
       "temp_range_max              float64\n",
       "trophic_lvl_estimate_min    float64\n",
       "trophic_lvl_estimate_max    float64\n",
       "trophic_lvl                  object\n",
       "fecundity_mean               object\n",
       "fecundity_min               float64\n",
       "fecundity_max               float64\n",
       "waterbody_name               object\n",
       "wb_ph_min                   float64\n",
       "wb_ph_max                   float64\n",
       "wb_salinity_min             float64\n",
       "wb_salinity_max             float64\n",
       "wb_do_min                   float64\n",
       "wb_do_max                   float64\n",
       "wb_bod_min                  float64\n",
       "wb_bod_max                  float64\n",
       "wb_turbidity_min            float64\n",
       "wb_turbidity_max            float64\n",
       "wb_temp_min                 float64\n",
       "wb_temp_max                 float64\n",
       "dtype: object"
      ]
     },
     "execution_count": 11,
     "metadata": {},
     "output_type": "execute_result"
    }
   ],
   "source": [
    "df.dtypes"
   ]
  },
  {
   "cell_type": "code",
   "execution_count": 12,
   "id": "2766f29c",
   "metadata": {},
   "outputs": [],
   "source": [
    "num_cols = [\n",
    "    \"temp_max\", \"weight_max\", \"length_max\",\n",
    "    \"temp_pref_min\", \"temp_pref_max\",\n",
    "]\n",
    "\n",
    "for col in num_cols:\n",
    "    df[col] = pd.to_numeric(df[col], errors=\"coerce\")"
   ]
  },
  {
   "cell_type": "code",
   "execution_count": 13,
   "id": "a9cbd9ff",
   "metadata": {},
   "outputs": [
    {
     "data": {
      "application/vnd.microsoft.datawrangler.viewer.v0+json": {
       "columns": [
        {
         "name": "index",
         "rawType": "object",
         "type": "string"
        },
        {
         "name": "0",
         "rawType": "object",
         "type": "unknown"
        }
       ],
       "ref": "e39b06ed-39cc-45e7-b59e-7674c5038a3a",
       "rows": [
        [
         "fish_id",
         "object"
        ],
        [
         "species",
         "object"
        ],
        [
         "common_name",
         "object"
        ],
        [
         "kingdom",
         "object"
        ],
        [
         "phylum",
         "object"
        ],
        [
         "class",
         "object"
        ],
        [
         "order",
         "object"
        ],
        [
         "family",
         "object"
        ],
        [
         "genus",
         "object"
        ],
        [
         "status",
         "object"
        ],
        [
         "feeding_type",
         "object"
        ],
        [
         "temp_max",
         "float64"
        ],
        [
         "weight_max",
         "float64"
        ],
        [
         "length_max",
         "float64"
        ],
        [
         "temp_pref_min",
         "float64"
        ],
        [
         "temp_pref_max",
         "float64"
        ],
        [
         "temp_range_min",
         "float64"
        ],
        [
         "temp_range_max",
         "float64"
        ],
        [
         "trophic_lvl_estimate_min",
         "float64"
        ],
        [
         "trophic_lvl_estimate_max",
         "float64"
        ],
        [
         "trophic_lvl",
         "object"
        ],
        [
         "fecundity_mean",
         "object"
        ],
        [
         "fecundity_min",
         "float64"
        ],
        [
         "fecundity_max",
         "float64"
        ],
        [
         "waterbody_name",
         "object"
        ],
        [
         "wb_ph_min",
         "float64"
        ],
        [
         "wb_ph_max",
         "float64"
        ],
        [
         "wb_salinity_min",
         "float64"
        ],
        [
         "wb_salinity_max",
         "float64"
        ],
        [
         "wb_do_min",
         "float64"
        ],
        [
         "wb_do_max",
         "float64"
        ],
        [
         "wb_bod_min",
         "float64"
        ],
        [
         "wb_bod_max",
         "float64"
        ],
        [
         "wb_turbidity_min",
         "float64"
        ],
        [
         "wb_turbidity_max",
         "float64"
        ],
        [
         "wb_temp_min",
         "float64"
        ],
        [
         "wb_temp_max",
         "float64"
        ]
       ],
       "shape": {
        "columns": 1,
        "rows": 37
       }
      },
      "text/plain": [
       "fish_id                      object\n",
       "species                      object\n",
       "common_name                  object\n",
       "kingdom                      object\n",
       "phylum                       object\n",
       "class                        object\n",
       "order                        object\n",
       "family                       object\n",
       "genus                        object\n",
       "status                       object\n",
       "feeding_type                 object\n",
       "temp_max                    float64\n",
       "weight_max                  float64\n",
       "length_max                  float64\n",
       "temp_pref_min               float64\n",
       "temp_pref_max               float64\n",
       "temp_range_min              float64\n",
       "temp_range_max              float64\n",
       "trophic_lvl_estimate_min    float64\n",
       "trophic_lvl_estimate_max    float64\n",
       "trophic_lvl                  object\n",
       "fecundity_mean               object\n",
       "fecundity_min               float64\n",
       "fecundity_max               float64\n",
       "waterbody_name               object\n",
       "wb_ph_min                   float64\n",
       "wb_ph_max                   float64\n",
       "wb_salinity_min             float64\n",
       "wb_salinity_max             float64\n",
       "wb_do_min                   float64\n",
       "wb_do_max                   float64\n",
       "wb_bod_min                  float64\n",
       "wb_bod_max                  float64\n",
       "wb_turbidity_min            float64\n",
       "wb_turbidity_max            float64\n",
       "wb_temp_min                 float64\n",
       "wb_temp_max                 float64\n",
       "dtype: object"
      ]
     },
     "execution_count": 13,
     "metadata": {},
     "output_type": "execute_result"
    }
   ],
   "source": [
    "df.dtypes"
   ]
  },
  {
   "cell_type": "code",
   "execution_count": 14,
   "id": "e009a17f",
   "metadata": {},
   "outputs": [],
   "source": [
    "num_cols = [\n",
    "    \"trophic_lvl\", \"fecundity_mean\"\n",
    "]\n",
    "\n",
    "for col in num_cols:\n",
    "    df[col] = pd.to_numeric(df[col], errors=\"coerce\")"
   ]
  },
  {
   "cell_type": "code",
   "execution_count": 15,
   "id": "8f8b194d",
   "metadata": {},
   "outputs": [
    {
     "data": {
      "application/vnd.microsoft.datawrangler.viewer.v0+json": {
       "columns": [
        {
         "name": "index",
         "rawType": "object",
         "type": "string"
        },
        {
         "name": "0",
         "rawType": "object",
         "type": "unknown"
        }
       ],
       "ref": "6b0b8b99-4c8d-45ed-b06f-db507085f8cc",
       "rows": [
        [
         "fish_id",
         "object"
        ],
        [
         "species",
         "object"
        ],
        [
         "common_name",
         "object"
        ],
        [
         "kingdom",
         "object"
        ],
        [
         "phylum",
         "object"
        ],
        [
         "class",
         "object"
        ],
        [
         "order",
         "object"
        ],
        [
         "family",
         "object"
        ],
        [
         "genus",
         "object"
        ],
        [
         "status",
         "object"
        ],
        [
         "feeding_type",
         "object"
        ],
        [
         "temp_max",
         "float64"
        ],
        [
         "weight_max",
         "float64"
        ],
        [
         "length_max",
         "float64"
        ],
        [
         "temp_pref_min",
         "float64"
        ],
        [
         "temp_pref_max",
         "float64"
        ],
        [
         "temp_range_min",
         "float64"
        ],
        [
         "temp_range_max",
         "float64"
        ],
        [
         "trophic_lvl_estimate_min",
         "float64"
        ],
        [
         "trophic_lvl_estimate_max",
         "float64"
        ],
        [
         "trophic_lvl",
         "float64"
        ],
        [
         "fecundity_mean",
         "float64"
        ],
        [
         "fecundity_min",
         "float64"
        ],
        [
         "fecundity_max",
         "float64"
        ],
        [
         "waterbody_name",
         "object"
        ],
        [
         "wb_ph_min",
         "float64"
        ],
        [
         "wb_ph_max",
         "float64"
        ],
        [
         "wb_salinity_min",
         "float64"
        ],
        [
         "wb_salinity_max",
         "float64"
        ],
        [
         "wb_do_min",
         "float64"
        ],
        [
         "wb_do_max",
         "float64"
        ],
        [
         "wb_bod_min",
         "float64"
        ],
        [
         "wb_bod_max",
         "float64"
        ],
        [
         "wb_turbidity_min",
         "float64"
        ],
        [
         "wb_turbidity_max",
         "float64"
        ],
        [
         "wb_temp_min",
         "float64"
        ],
        [
         "wb_temp_max",
         "float64"
        ]
       ],
       "shape": {
        "columns": 1,
        "rows": 37
       }
      },
      "text/plain": [
       "fish_id                      object\n",
       "species                      object\n",
       "common_name                  object\n",
       "kingdom                      object\n",
       "phylum                       object\n",
       "class                        object\n",
       "order                        object\n",
       "family                       object\n",
       "genus                        object\n",
       "status                       object\n",
       "feeding_type                 object\n",
       "temp_max                    float64\n",
       "weight_max                  float64\n",
       "length_max                  float64\n",
       "temp_pref_min               float64\n",
       "temp_pref_max               float64\n",
       "temp_range_min              float64\n",
       "temp_range_max              float64\n",
       "trophic_lvl_estimate_min    float64\n",
       "trophic_lvl_estimate_max    float64\n",
       "trophic_lvl                 float64\n",
       "fecundity_mean              float64\n",
       "fecundity_min               float64\n",
       "fecundity_max               float64\n",
       "waterbody_name               object\n",
       "wb_ph_min                   float64\n",
       "wb_ph_max                   float64\n",
       "wb_salinity_min             float64\n",
       "wb_salinity_max             float64\n",
       "wb_do_min                   float64\n",
       "wb_do_max                   float64\n",
       "wb_bod_min                  float64\n",
       "wb_bod_max                  float64\n",
       "wb_turbidity_min            float64\n",
       "wb_turbidity_max            float64\n",
       "wb_temp_min                 float64\n",
       "wb_temp_max                 float64\n",
       "dtype: object"
      ]
     },
     "execution_count": 15,
     "metadata": {},
     "output_type": "execute_result"
    }
   ],
   "source": [
    "df.dtypes"
   ]
  },
  {
   "cell_type": "code",
   "execution_count": 16,
   "id": "4daacfb7",
   "metadata": {},
   "outputs": [],
   "source": [
    "df.to_csv(\"encoded.csv\", index=False)"
   ]
  },
  {
   "cell_type": "markdown",
   "id": "075d3e5d",
   "metadata": {},
   "source": [
    "# Risk mapping"
   ]
  },
  {
   "cell_type": "code",
   "execution_count": 18,
   "id": "02eb8be3",
   "metadata": {},
   "outputs": [],
   "source": [
    "df = pd.read_csv(\"encoded.csv\")"
   ]
  },
  {
   "cell_type": "code",
   "execution_count": 19,
   "id": "401dd157",
   "metadata": {},
   "outputs": [],
   "source": [
    "# Columns to drop (not useful for modeling)\n",
    "drop_cols = ['fish_id', 'common_name']\n",
    "\n",
    "# High-cardinality categorical (many unique values)\n",
    "high_cardinality = ['species', 'waterbody_name']\n",
    "\n",
    "# Low-cardinality categorical (few unique categories)\n",
    "low_cardinality = [\n",
    "    'kingdom', 'phylum', 'class', 'order', \n",
    "    'family', 'genus', 'status', 'feeding_type'\n",
    "]\n",
    "\n",
    "# Numeric features\n",
    "numeric_cols = [\n",
    "    'temp_max', 'weight_max', 'length_max',\n",
    "    'temp_pref_min', 'temp_pref_max',\n",
    "    'temp_range_min', 'temp_range_max',\n",
    "    'trophic_lvl_estimate_min', 'trophic_lvl_estimate_max', 'trophic_lvl',\n",
    "    'fecundity_mean', 'fecundity_min', 'fecundity_max',\n",
    "    'wb_ph_min', 'wb_ph_max',\n",
    "    'wb_salinity_min', 'wb_salinity_max',\n",
    "    'wb_do_min', 'wb_do_max',\n",
    "    'wb_bod_min', 'wb_bod_max',\n",
    "    'wb_turbidity_min', 'wb_turbidity_max',\n",
    "    'wb_temp_min', 'wb_temp_max'\n",
    "]\n",
    "\n",
    "# Import necessary libraries\n",
    "from sklearn.pipeline import Pipeline\n",
    "from sklearn.compose import ColumnTransformer\n",
    "from sklearn.impute import SimpleImputer\n",
    "from sklearn.preprocessing import OneHotEncoder\n",
    "import category_encoders as ce\n",
    "\n",
    "# Define transformers\n",
    "numeric_transformer = Pipeline([\n",
    "    ('imputer', SimpleImputer(strategy='median'))\n",
    "])\n",
    "\n",
    "low_card_transformer = Pipeline([\n",
    "    ('imputer', SimpleImputer(strategy='most_frequent')),\n",
    "    ('onehot', OneHotEncoder(handle_unknown='ignore'))\n",
    "])\n",
    "\n",
    "high_card_transformer = Pipeline([\n",
    "    ('imputer', SimpleImputer(strategy='most_frequent')),\n",
    "    ('target', ce.TargetEncoder())\n",
    "])\n",
    "\n",
    "# Column transformer (final preprocessor)\n",
    "preprocessor = ColumnTransformer([\n",
    "    ('num', numeric_transformer, numeric_cols),\n",
    "    ('low_cat', low_card_transformer, low_cardinality),\n",
    "    ('high_cat', high_card_transformer, high_cardinality)\n",
    "], remainder='drop')"
   ]
  },
  {
   "cell_type": "code",
   "execution_count": 21,
   "id": "02c55f4b",
   "metadata": {},
   "outputs": [
    {
     "name": "stdout",
     "output_type": "stream",
     "text": [
      "status\n",
      "established           1456\n",
      "invasive              1410\n",
      "reported               800\n",
      "EN                     787\n",
      "other                  405\n",
      "failed                 381\n",
      "CR                     249\n",
      "LC                      50\n",
      "extirpated              39\n",
      "Locally Threatened       6\n",
      "Name: count, dtype: int64\n"
     ]
    }
   ],
   "source": [
    "print(df.status.value_counts())"
   ]
  },
  {
   "cell_type": "code",
   "execution_count": 22,
   "id": "877c2363",
   "metadata": {},
   "outputs": [
    {
     "data": {
      "application/vnd.microsoft.datawrangler.viewer.v0+json": {
       "columns": [
        {
         "name": "('status', 'invasion_risk_score')",
         "rawType": "object",
         "type": "unknown"
        },
        {
         "name": "count",
         "rawType": "int64",
         "type": "integer"
        }
       ],
       "ref": "5e252bab-9412-4565-bea6-466834a95311",
       "rows": [
        [
         "('established', np.float64(0.7))",
         "1456"
        ],
        [
         "('invasive', np.float64(0.9))",
         "1410"
        ],
        [
         "('reported', np.float64(0.25))",
         "800"
        ],
        [
         "('EN', np.float64(0.3))",
         "787"
        ],
        [
         "('other', np.float64(0.5))",
         "405"
        ],
        [
         "('failed', np.float64(0.1))",
         "381"
        ],
        [
         "('CR', np.float64(0.2))",
         "249"
        ],
        [
         "('LC', np.float64(0.4))",
         "50"
        ],
        [
         "('extirpated', np.float64(0.15))",
         "39"
        ],
        [
         "('Locally Threatened', np.float64(0.35))",
         "6"
        ]
       ],
       "shape": {
        "columns": 1,
        "rows": 10
       }
      },
      "text/plain": [
       "status              invasion_risk_score\n",
       "established         0.70                   1456\n",
       "invasive            0.90                   1410\n",
       "reported            0.25                    800\n",
       "EN                  0.30                    787\n",
       "other               0.50                    405\n",
       "failed              0.10                    381\n",
       "CR                  0.20                    249\n",
       "LC                  0.40                     50\n",
       "extirpated          0.15                     39\n",
       "Locally Threatened  0.35                      6\n",
       "Name: count, dtype: int64"
      ]
     },
     "execution_count": 22,
     "metadata": {},
     "output_type": "execute_result"
    }
   ],
   "source": [
    "# Define numeric invasion risk mapping\n",
    "risk_mapping = {\n",
    "    'failed': 0.1,           # Failed to establish (lowest risk)\n",
    "    'extirpated': 0.15,      # Was established but eliminated (slight residual risk of reintroduction)\n",
    "    'reported': 0.25,        # Introduction reported, outcome unknown\n",
    "    'CR': 0.2,               # Critically endangered (very unlikely to become invasive)\n",
    "    'EN': 0.3,               # Endangered (unlikely to become invasive)\n",
    "    'LC': 0.4,               # Least concern (neutral invasion potential)\n",
    "    'Locally Threatened': 0.35, # Threatened by invasives, unlikely to be invasive themselves\n",
    "    'other': 0.5,            # Unknown status (moderate uncertainty)\n",
    "    'established': 0.7,      # Successfully established populations (high potential for impact)\n",
    "    'invasive': 0.9          # Confirmed negative impacts (highest risk)\n",
    "}\n",
    "\n",
    "# Ensure your status column matches the keys\n",
    "# df['status'] = df['status'].str.capitalize().str.strip()\n",
    "\n",
    "# Create numeric target\n",
    "df['invasion_risk_score'] = df['status'].map(risk_mapping)\n",
    "\n",
    "# Quick check\n",
    "df[['status', 'invasion_risk_score']].value_counts()"
   ]
  },
  {
   "cell_type": "code",
   "execution_count": 23,
   "id": "efc7aa05",
   "metadata": {},
   "outputs": [],
   "source": [
    "df.to_csv(\"super_dataset.csv\", index=False)"
   ]
  }
 ],
 "metadata": {
  "kernelspec": {
   "display_name": "Python 3",
   "language": "python",
   "name": "python3"
  },
  "language_info": {
   "codemirror_mode": {
    "name": "ipython",
    "version": 3
   },
   "file_extension": ".py",
   "mimetype": "text/x-python",
   "name": "python",
   "nbconvert_exporter": "python",
   "pygments_lexer": "ipython3",
   "version": "3.13.7"
  }
 },
 "nbformat": 4,
 "nbformat_minor": 5
}
